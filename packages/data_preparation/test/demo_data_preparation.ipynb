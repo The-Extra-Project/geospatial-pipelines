{
 "cells": [
  {
   "cell_type": "code",
   "execution_count": null,
   "metadata": {},
   "outputs": [],
   "source": [
    "import pycrs\n",
    "import shapefile\n",
    "\n",
    "sf = shapefile.Reader(\"shapefile/TA_diff_pkk_lidarhd_classe.shp\")\n",
    "print(\"total records: \" + str(sf.numRecords))\n"
   ]
  },
  {
   "cell_type": "code",
   "execution_count": null,
   "metadata": {},
   "outputs": [],
   "source": [
    "import re\n",
    "print(\"different columns of the file: \" + str([ f[0] for f in sf.fields]))\n",
    "\n",
    "print(\"getting epsg code from the given file\")\n",
    "\n",
    "prj = pycrs.load.from_file(\"shapefile/TA_diff_pkk_lidarhd_classe.prj\").to_ogc_wkt()\n",
    "\n",
    "\n",
    "crs_system_pattern = re.compile(r'PROJCS\\[\"(.*?)\",')\n",
    "\n",
    "projcs_name_match = crs_system_pattern.search(prj)\n",
    "\n",
    "projcs_name = projcs_name_match.group(1) if projcs_name_match else \"PROJCS name not found\"\n",
    "\n",
    "proj_code = pycrs.utils.search_name(projcs_name)\n",
    "\n",
    "print(\"projection name is {}\".format(projcs_name))\n",
    "\n",
    "\n",
    "## now given that given projection system can be checked \n",
    "\n",
    "## now to find the project system, there are various category\n",
    "\n",
    "# prjfile =  open(\"shapefile/TA_diff_pkk_lidarhd_classe.prj\", \"r\")\n",
    "\n",
    "# prjlist = [line.rstrip('/n') for line in prjfile]\n",
    "\n",
    "# print(prjfile.read())\n",
    "\n",
    "# crs = pycrs.parse.from_esri_wkt(prjlist)\n"
   ]
  }
 ],
 "metadata": {
  "language_info": {
   "name": "python"
  }
 },
 "nbformat": 4,
 "nbformat_minor": 2
}
